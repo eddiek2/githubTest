{
 "cells": [
  {
   "cell_type": "markdown",
   "id": "6yDxo9u0d9Na",
   "metadata": {
    "id": "6yDxo9u0d9Na"
   },
   "source": [
    "# Project Business Statistics: E-news Express\n",
    "\n",
    "**Marks: 60**"
   ]
  },
  {
   "cell_type": "markdown",
   "id": "SrLd-ICEmPSD",
   "metadata": {
    "id": "SrLd-ICEmPSD"
   },
   "source": [
    "## Define Problem Statement and Objectives"
   ]
  },
  {
   "cell_type": "markdown",
   "id": "9Vt1PLLqmXNn",
   "metadata": {
    "id": "9Vt1PLLqmXNn"
   },
   "source": [
    "## Problem Statement"
   ]
  },
  {
   "cell_type": "markdown",
   "id": "2754618d",
   "metadata": {},
   "source": [
    "* With all digital products,the emergence of electronic news portals also known as E-news is fast replacing traditional newspapers. E-news portals offer varied advantages of traditional newspapers including faster access to the content and the ability to utilize difference technologies such as audio,graphics,video, and other interactive elements. E-news seeking to grow it subcriber base actions and interest of visitors to its website. Express is an online news portal.\n",
    "* Executives of the company believe that the new website is challenged when it comes to outline and recommended content to keep customs engaged long enough to make a decision to subscribe and this has cause a decline in new monthly subscription.\n"
   ]
  },
  {
   "cell_type": "markdown",
   "id": "d11d0c16",
   "metadata": {},
   "source": [
    "## Objectives\n",
    "* In order to resolve this, the E-news Express has created a new landing page and wants to test its effectiveness by employing the A/B testing method. The data science team of the company has selected 100 random visitors and divided them into two equal groups with one group as control and the other as treatment group.\n",
    "* The existing landing page was served to the first group (control group) and the new landing page to the second group (treatment group)\n",
    "* The current task is to explore the data and perform a statistical analysis (at a significance level of 5%)  to determine the effectiveness of the new landing page in gathering new subscribers for the news portal by answering the following questions.\n",
    "* Do the users spend more time on the new landing  page than on the existing landing page?\n",
    "* Is the conversion rate (the proportion of users who visit the landing page and get converted) for the new page greater than the conversion rate for the old page?\n",
    "* Is the conversion and preferred language are independent or related?\n",
    "* Is the time spent on the new page same for the different language users?\n",
    "\n",
    "\n"
   ]
  },
  {
   "cell_type": "markdown",
   "id": "85cec66c",
   "metadata": {},
   "source": [
    "## Data Dictionary \n",
    "This data contains information regarding the interaction of users in both groups with the two versions of the landing page\n",
    "\n",
    "1. user_id - Unique user ID of the person visiting the website\n",
    "\n",
    "2. group - Whether the user belongs to the first group (control) or the second group (treatment)\n",
    "\n",
    "3. landing_page - Whether the landing page is new or old\n",
    "\n",
    "4. time_spent_on_the_page - Time (in minutes) spent by the user on the landing page\n",
    "\n",
    "5. converted - Whether the user gets converted to a subscriber of the news portal or not\n",
    "\n",
    "6. language_preferred - Language chosen by the user to view the landing page"
   ]
  },
  {
   "cell_type": "markdown",
   "id": "a6a3d218",
   "metadata": {
    "id": "a6a3d218"
   },
   "source": [
    "## Import all the necessary libraries"
   ]
  },
  {
   "cell_type": "code",
   "execution_count": 1,
   "id": "658c5dec",
   "metadata": {
    "id": "658c5dec"
   },
   "outputs": [],
   "source": [
    "import numpy as np\n",
    "import pandas as pd\n",
    "import matplotlib.pyplot as plt\n",
    "import seaborn as sns\n",
    "import scipy.stats as stats"
   ]
  },
  {
   "cell_type": "markdown",
   "id": "6970dd99",
   "metadata": {
    "id": "6970dd99"
   },
   "source": [
    "## Reading the Data into a DataFrame"
   ]
  },
  {
   "cell_type": "code",
   "execution_count": 5,
   "id": "d3b95640",
   "metadata": {
    "id": "d3b95640"
   },
   "outputs": [],
   "source": [
    "db = pd.read_csv('abtest.csv')"
   ]
  },
  {
   "cell_type": "code",
   "execution_count": 6,
   "id": "cbcd83f0",
   "metadata": {},
   "outputs": [
    {
     "data": {
      "text/html": [
       "<div>\n",
       "<style scoped>\n",
       "    .dataframe tbody tr th:only-of-type {\n",
       "        vertical-align: middle;\n",
       "    }\n",
       "\n",
       "    .dataframe tbody tr th {\n",
       "        vertical-align: top;\n",
       "    }\n",
       "\n",
       "    .dataframe thead th {\n",
       "        text-align: right;\n",
       "    }\n",
       "</style>\n",
       "<table border=\"1\" class=\"dataframe\">\n",
       "  <thead>\n",
       "    <tr style=\"text-align: right;\">\n",
       "      <th></th>\n",
       "      <th>user_id</th>\n",
       "      <th>group</th>\n",
       "      <th>landing_page</th>\n",
       "      <th>time_spent_on_the_page</th>\n",
       "      <th>converted</th>\n",
       "      <th>language_preferred</th>\n",
       "    </tr>\n",
       "  </thead>\n",
       "  <tbody>\n",
       "    <tr>\n",
       "      <th>0</th>\n",
       "      <td>546592</td>\n",
       "      <td>control</td>\n",
       "      <td>old</td>\n",
       "      <td>3.48</td>\n",
       "      <td>no</td>\n",
       "      <td>Spanish</td>\n",
       "    </tr>\n",
       "    <tr>\n",
       "      <th>1</th>\n",
       "      <td>546468</td>\n",
       "      <td>treatment</td>\n",
       "      <td>new</td>\n",
       "      <td>7.13</td>\n",
       "      <td>yes</td>\n",
       "      <td>English</td>\n",
       "    </tr>\n",
       "    <tr>\n",
       "      <th>2</th>\n",
       "      <td>546462</td>\n",
       "      <td>treatment</td>\n",
       "      <td>new</td>\n",
       "      <td>4.40</td>\n",
       "      <td>no</td>\n",
       "      <td>Spanish</td>\n",
       "    </tr>\n",
       "    <tr>\n",
       "      <th>3</th>\n",
       "      <td>546567</td>\n",
       "      <td>control</td>\n",
       "      <td>old</td>\n",
       "      <td>3.02</td>\n",
       "      <td>no</td>\n",
       "      <td>French</td>\n",
       "    </tr>\n",
       "    <tr>\n",
       "      <th>4</th>\n",
       "      <td>546459</td>\n",
       "      <td>treatment</td>\n",
       "      <td>new</td>\n",
       "      <td>4.75</td>\n",
       "      <td>yes</td>\n",
       "      <td>Spanish</td>\n",
       "    </tr>\n",
       "    <tr>\n",
       "      <th>...</th>\n",
       "      <td>...</td>\n",
       "      <td>...</td>\n",
       "      <td>...</td>\n",
       "      <td>...</td>\n",
       "      <td>...</td>\n",
       "      <td>...</td>\n",
       "    </tr>\n",
       "    <tr>\n",
       "      <th>95</th>\n",
       "      <td>546446</td>\n",
       "      <td>treatment</td>\n",
       "      <td>new</td>\n",
       "      <td>5.15</td>\n",
       "      <td>no</td>\n",
       "      <td>Spanish</td>\n",
       "    </tr>\n",
       "    <tr>\n",
       "      <th>96</th>\n",
       "      <td>546544</td>\n",
       "      <td>control</td>\n",
       "      <td>old</td>\n",
       "      <td>6.52</td>\n",
       "      <td>yes</td>\n",
       "      <td>English</td>\n",
       "    </tr>\n",
       "    <tr>\n",
       "      <th>97</th>\n",
       "      <td>546472</td>\n",
       "      <td>treatment</td>\n",
       "      <td>new</td>\n",
       "      <td>7.07</td>\n",
       "      <td>yes</td>\n",
       "      <td>Spanish</td>\n",
       "    </tr>\n",
       "    <tr>\n",
       "      <th>98</th>\n",
       "      <td>546481</td>\n",
       "      <td>treatment</td>\n",
       "      <td>new</td>\n",
       "      <td>6.20</td>\n",
       "      <td>yes</td>\n",
       "      <td>Spanish</td>\n",
       "    </tr>\n",
       "    <tr>\n",
       "      <th>99</th>\n",
       "      <td>546483</td>\n",
       "      <td>treatment</td>\n",
       "      <td>new</td>\n",
       "      <td>5.86</td>\n",
       "      <td>yes</td>\n",
       "      <td>English</td>\n",
       "    </tr>\n",
       "  </tbody>\n",
       "</table>\n",
       "<p>100 rows × 6 columns</p>\n",
       "</div>"
      ],
      "text/plain": [
       "    user_id      group landing_page  time_spent_on_the_page converted  \\\n",
       "0    546592    control          old                    3.48        no   \n",
       "1    546468  treatment          new                    7.13       yes   \n",
       "2    546462  treatment          new                    4.40        no   \n",
       "3    546567    control          old                    3.02        no   \n",
       "4    546459  treatment          new                    4.75       yes   \n",
       "..      ...        ...          ...                     ...       ...   \n",
       "95   546446  treatment          new                    5.15        no   \n",
       "96   546544    control          old                    6.52       yes   \n",
       "97   546472  treatment          new                    7.07       yes   \n",
       "98   546481  treatment          new                    6.20       yes   \n",
       "99   546483  treatment          new                    5.86       yes   \n",
       "\n",
       "   language_preferred  \n",
       "0             Spanish  \n",
       "1             English  \n",
       "2             Spanish  \n",
       "3              French  \n",
       "4             Spanish  \n",
       "..                ...  \n",
       "95            Spanish  \n",
       "96            English  \n",
       "97            Spanish  \n",
       "98            Spanish  \n",
       "99            English  \n",
       "\n",
       "[100 rows x 6 columns]"
      ]
     },
     "execution_count": 6,
     "metadata": {},
     "output_type": "execute_result"
    }
   ],
   "source": [
    "db"
   ]
  },
  {
   "cell_type": "markdown",
   "id": "1c8e6f1b",
   "metadata": {},
   "source": [
    "### Observation\n",
    "The Dataset has 6 columns as mentioned in the Data Dictionary"
   ]
  },
  {
   "cell_type": "markdown",
   "id": "9d75cfa2",
   "metadata": {
    "id": "9d75cfa2"
   },
   "source": [
    "## Explore the dataset and extract insights using Exploratory Data Analysis"
   ]
  },
  {
   "cell_type": "markdown",
   "id": "27201534",
   "metadata": {
    "id": "27201534"
   },
   "source": [
    "- Data Overview\n",
    "  - Viewing the first and last few rows of the dataset\n",
    "  - Checking the shape of the dataset\n",
    "  - Getting the statistical summary for the variables\n",
    "- Check for missing values\n",
    "- Check for duplicates"
   ]
  },
  {
   "cell_type": "markdown",
   "id": "bc8a0c11",
   "metadata": {},
   "source": [
    "### Data overview"
   ]
  },
  {
   "cell_type": "markdown",
   "id": "7ebf8e03",
   "metadata": {},
   "source": [
    "The first step in getting the overview of the data is to;\n",
    "* Run the first five rows and last five rows of the data set\n",
    "* Getting an imformed imformations about the dataset which is the rows and colums\n",
    "* Running checks on the data type of the columns to ensure data are store in preferred format\n",
    "* Finally we check the statistical summary of the dataset"
   ]
  },
  {
   "cell_type": "markdown",
   "id": "2d2daabf",
   "metadata": {},
   "source": [
    "### Working on the first five rows"
   ]
  },
  {
   "cell_type": "code",
   "execution_count": 4,
   "id": "e1ad11d4",
   "metadata": {
    "id": "e1ad11d4"
   },
   "outputs": [
    {
     "data": {
      "text/html": [
       "<div>\n",
       "<style scoped>\n",
       "    .dataframe tbody tr th:only-of-type {\n",
       "        vertical-align: middle;\n",
       "    }\n",
       "\n",
       "    .dataframe tbody tr th {\n",
       "        vertical-align: top;\n",
       "    }\n",
       "\n",
       "    .dataframe thead th {\n",
       "        text-align: right;\n",
       "    }\n",
       "</style>\n",
       "<table border=\"1\" class=\"dataframe\">\n",
       "  <thead>\n",
       "    <tr style=\"text-align: right;\">\n",
       "      <th></th>\n",
       "      <th>user_id</th>\n",
       "      <th>group</th>\n",
       "      <th>landing_page</th>\n",
       "      <th>time_spent_on_the_page</th>\n",
       "      <th>converted</th>\n",
       "      <th>language_preferred</th>\n",
       "    </tr>\n",
       "  </thead>\n",
       "  <tbody>\n",
       "    <tr>\n",
       "      <th>0</th>\n",
       "      <td>546592</td>\n",
       "      <td>control</td>\n",
       "      <td>old</td>\n",
       "      <td>3.48</td>\n",
       "      <td>no</td>\n",
       "      <td>Spanish</td>\n",
       "    </tr>\n",
       "    <tr>\n",
       "      <th>1</th>\n",
       "      <td>546468</td>\n",
       "      <td>treatment</td>\n",
       "      <td>new</td>\n",
       "      <td>7.13</td>\n",
       "      <td>yes</td>\n",
       "      <td>English</td>\n",
       "    </tr>\n",
       "    <tr>\n",
       "      <th>2</th>\n",
       "      <td>546462</td>\n",
       "      <td>treatment</td>\n",
       "      <td>new</td>\n",
       "      <td>4.40</td>\n",
       "      <td>no</td>\n",
       "      <td>Spanish</td>\n",
       "    </tr>\n",
       "    <tr>\n",
       "      <th>3</th>\n",
       "      <td>546567</td>\n",
       "      <td>control</td>\n",
       "      <td>old</td>\n",
       "      <td>3.02</td>\n",
       "      <td>no</td>\n",
       "      <td>French</td>\n",
       "    </tr>\n",
       "    <tr>\n",
       "      <th>4</th>\n",
       "      <td>546459</td>\n",
       "      <td>treatment</td>\n",
       "      <td>new</td>\n",
       "      <td>4.75</td>\n",
       "      <td>yes</td>\n",
       "      <td>Spanish</td>\n",
       "    </tr>\n",
       "  </tbody>\n",
       "</table>\n",
       "</div>"
      ],
      "text/plain": [
       "   user_id      group landing_page  time_spent_on_the_page converted  \\\n",
       "0   546592    control          old                    3.48        no   \n",
       "1   546468  treatment          new                    7.13       yes   \n",
       "2   546462  treatment          new                    4.40        no   \n",
       "3   546567    control          old                    3.02        no   \n",
       "4   546459  treatment          new                    4.75       yes   \n",
       "\n",
       "  language_preferred  \n",
       "0            Spanish  \n",
       "1            English  \n",
       "2            Spanish  \n",
       "3             French  \n",
       "4            Spanish  "
      ]
     },
     "execution_count": 4,
     "metadata": {},
     "output_type": "execute_result"
    }
   ],
   "source": [
    "# first 5 rows of the dataset\n",
    "db.head()"
   ]
  },
  {
   "cell_type": "markdown",
   "id": "ef57efda",
   "metadata": {},
   "source": [
    "### Working on the last five rows"
   ]
  },
  {
   "cell_type": "code",
   "execution_count": 5,
   "id": "e341198d",
   "metadata": {},
   "outputs": [
    {
     "data": {
      "text/html": [
       "<div>\n",
       "<style scoped>\n",
       "    .dataframe tbody tr th:only-of-type {\n",
       "        vertical-align: middle;\n",
       "    }\n",
       "\n",
       "    .dataframe tbody tr th {\n",
       "        vertical-align: top;\n",
       "    }\n",
       "\n",
       "    .dataframe thead th {\n",
       "        text-align: right;\n",
       "    }\n",
       "</style>\n",
       "<table border=\"1\" class=\"dataframe\">\n",
       "  <thead>\n",
       "    <tr style=\"text-align: right;\">\n",
       "      <th></th>\n",
       "      <th>user_id</th>\n",
       "      <th>group</th>\n",
       "      <th>landing_page</th>\n",
       "      <th>time_spent_on_the_page</th>\n",
       "      <th>converted</th>\n",
       "      <th>language_preferred</th>\n",
       "    </tr>\n",
       "  </thead>\n",
       "  <tbody>\n",
       "    <tr>\n",
       "      <th>95</th>\n",
       "      <td>546446</td>\n",
       "      <td>treatment</td>\n",
       "      <td>new</td>\n",
       "      <td>5.15</td>\n",
       "      <td>no</td>\n",
       "      <td>Spanish</td>\n",
       "    </tr>\n",
       "    <tr>\n",
       "      <th>96</th>\n",
       "      <td>546544</td>\n",
       "      <td>control</td>\n",
       "      <td>old</td>\n",
       "      <td>6.52</td>\n",
       "      <td>yes</td>\n",
       "      <td>English</td>\n",
       "    </tr>\n",
       "    <tr>\n",
       "      <th>97</th>\n",
       "      <td>546472</td>\n",
       "      <td>treatment</td>\n",
       "      <td>new</td>\n",
       "      <td>7.07</td>\n",
       "      <td>yes</td>\n",
       "      <td>Spanish</td>\n",
       "    </tr>\n",
       "    <tr>\n",
       "      <th>98</th>\n",
       "      <td>546481</td>\n",
       "      <td>treatment</td>\n",
       "      <td>new</td>\n",
       "      <td>6.20</td>\n",
       "      <td>yes</td>\n",
       "      <td>Spanish</td>\n",
       "    </tr>\n",
       "    <tr>\n",
       "      <th>99</th>\n",
       "      <td>546483</td>\n",
       "      <td>treatment</td>\n",
       "      <td>new</td>\n",
       "      <td>5.86</td>\n",
       "      <td>yes</td>\n",
       "      <td>English</td>\n",
       "    </tr>\n",
       "  </tbody>\n",
       "</table>\n",
       "</div>"
      ],
      "text/plain": [
       "    user_id      group landing_page  time_spent_on_the_page converted  \\\n",
       "95   546446  treatment          new                    5.15        no   \n",
       "96   546544    control          old                    6.52       yes   \n",
       "97   546472  treatment          new                    7.07       yes   \n",
       "98   546481  treatment          new                    6.20       yes   \n",
       "99   546483  treatment          new                    5.86       yes   \n",
       "\n",
       "   language_preferred  \n",
       "95            Spanish  \n",
       "96            English  \n",
       "97            Spanish  \n",
       "98            Spanish  \n",
       "99            English  "
      ]
     },
     "execution_count": 5,
     "metadata": {},
     "output_type": "execute_result"
    }
   ],
   "source": [
    "# viewing the last 5 rows of the dataset\n",
    "db.tail()"
   ]
  },
  {
   "cell_type": "code",
   "execution_count": 6,
   "id": "ac36eecd",
   "metadata": {},
   "outputs": [
    {
     "data": {
      "text/plain": [
       "(100, 6)"
      ]
     },
     "execution_count": 6,
     "metadata": {},
     "output_type": "execute_result"
    }
   ],
   "source": [
    "# viewing the shape of the dataset\n",
    "db.shape"
   ]
  },
  {
   "cell_type": "markdown",
   "id": "1970e1d4",
   "metadata": {},
   "source": [
    "### Observation On Shape\n",
    "From the dataset, we have 100 row and 6 columns"
   ]
  },
  {
   "cell_type": "code",
   "execution_count": 7,
   "id": "3f6d3ae1",
   "metadata": {},
   "outputs": [
    {
     "data": {
      "text/html": [
       "<div>\n",
       "<style scoped>\n",
       "    .dataframe tbody tr th:only-of-type {\n",
       "        vertical-align: middle;\n",
       "    }\n",
       "\n",
       "    .dataframe tbody tr th {\n",
       "        vertical-align: top;\n",
       "    }\n",
       "\n",
       "    .dataframe thead th {\n",
       "        text-align: right;\n",
       "    }\n",
       "</style>\n",
       "<table border=\"1\" class=\"dataframe\">\n",
       "  <thead>\n",
       "    <tr style=\"text-align: right;\">\n",
       "      <th></th>\n",
       "      <th>user_id</th>\n",
       "      <th>time_spent_on_the_page</th>\n",
       "    </tr>\n",
       "  </thead>\n",
       "  <tbody>\n",
       "    <tr>\n",
       "      <th>count</th>\n",
       "      <td>100.000000</td>\n",
       "      <td>100.000000</td>\n",
       "    </tr>\n",
       "    <tr>\n",
       "      <th>mean</th>\n",
       "      <td>546517.000000</td>\n",
       "      <td>5.377800</td>\n",
       "    </tr>\n",
       "    <tr>\n",
       "      <th>std</th>\n",
       "      <td>52.295779</td>\n",
       "      <td>2.378166</td>\n",
       "    </tr>\n",
       "    <tr>\n",
       "      <th>min</th>\n",
       "      <td>546443.000000</td>\n",
       "      <td>0.190000</td>\n",
       "    </tr>\n",
       "    <tr>\n",
       "      <th>25%</th>\n",
       "      <td>546467.750000</td>\n",
       "      <td>3.880000</td>\n",
       "    </tr>\n",
       "    <tr>\n",
       "      <th>50%</th>\n",
       "      <td>546492.500000</td>\n",
       "      <td>5.415000</td>\n",
       "    </tr>\n",
       "    <tr>\n",
       "      <th>75%</th>\n",
       "      <td>546567.250000</td>\n",
       "      <td>7.022500</td>\n",
       "    </tr>\n",
       "    <tr>\n",
       "      <th>max</th>\n",
       "      <td>546592.000000</td>\n",
       "      <td>10.710000</td>\n",
       "    </tr>\n",
       "  </tbody>\n",
       "</table>\n",
       "</div>"
      ],
      "text/plain": [
       "             user_id  time_spent_on_the_page\n",
       "count     100.000000              100.000000\n",
       "mean   546517.000000                5.377800\n",
       "std        52.295779                2.378166\n",
       "min    546443.000000                0.190000\n",
       "25%    546467.750000                3.880000\n",
       "50%    546492.500000                5.415000\n",
       "75%    546567.250000                7.022500\n",
       "max    546592.000000               10.710000"
      ]
     },
     "execution_count": 7,
     "metadata": {},
     "output_type": "execute_result"
    }
   ],
   "source": [
    "# viewing the statistical summary of the the dataset\n",
    "db.describe()"
   ]
  },
  {
   "cell_type": "markdown",
   "id": "1b207a14",
   "metadata": {},
   "source": [
    "### Observation for Describe\n",
    "Users take an average time of 5.37, minimium time of 3.88 and maximium time of 10.7 spent on the page  "
   ]
  },
  {
   "cell_type": "code",
   "execution_count": 8,
   "id": "4389ce74",
   "metadata": {},
   "outputs": [
    {
     "name": "stdout",
     "output_type": "stream",
     "text": [
      "<class 'pandas.core.frame.DataFrame'>\n",
      "RangeIndex: 100 entries, 0 to 99\n",
      "Data columns (total 6 columns):\n",
      " #   Column                  Non-Null Count  Dtype  \n",
      "---  ------                  --------------  -----  \n",
      " 0   user_id                 100 non-null    int64  \n",
      " 1   group                   100 non-null    object \n",
      " 2   landing_page            100 non-null    object \n",
      " 3   time_spent_on_the_page  100 non-null    float64\n",
      " 4   converted               100 non-null    object \n",
      " 5   language_preferred      100 non-null    object \n",
      "dtypes: float64(1), int64(1), object(4)\n",
      "memory usage: 3.2+ KB\n"
     ]
    }
   ],
   "source": [
    "db.info()"
   ]
  },
  {
   "cell_type": "markdown",
   "id": "81644de5",
   "metadata": {},
   "source": [
    "### Observation on Info\n",
    "The dataset are (int64, object and float64),There is no error on the dataset "
   ]
  },
  {
   "cell_type": "code",
   "execution_count": 9,
   "id": "e7f1e1a1",
   "metadata": {},
   "outputs": [
    {
     "data": {
      "text/plain": [
       "user_id                   0\n",
       "group                     0\n",
       "landing_page              0\n",
       "time_spent_on_the_page    0\n",
       "converted                 0\n",
       "language_preferred        0\n",
       "dtype: int64"
      ]
     },
     "execution_count": 9,
     "metadata": {},
     "output_type": "execute_result"
    }
   ],
   "source": [
    "# checking for missing values\n",
    "db.isnull().sum()"
   ]
  },
  {
   "cell_type": "markdown",
   "id": "34b725ea",
   "metadata": {},
   "source": [
    "### Observation on Missing Values\n",
    "There is no missing values in the dataset"
   ]
  },
  {
   "cell_type": "code",
   "execution_count": 10,
   "id": "22c30f5a",
   "metadata": {},
   "outputs": [
    {
     "data": {
      "text/plain": [
       "0     False\n",
       "1     False\n",
       "2     False\n",
       "3     False\n",
       "4     False\n",
       "      ...  \n",
       "95    False\n",
       "96    False\n",
       "97    False\n",
       "98    False\n",
       "99    False\n",
       "Length: 100, dtype: bool"
      ]
     },
     "execution_count": 10,
     "metadata": {},
     "output_type": "execute_result"
    }
   ],
   "source": [
    "db.duplicated(subset = None, keep = 'first')"
   ]
  },
  {
   "cell_type": "markdown",
   "id": "1de010b6",
   "metadata": {},
   "source": [
    "### Observation on Duplicates \n",
    "There are no duplicates in the dataset"
   ]
  },
  {
   "cell_type": "markdown",
   "id": "68f3b2c9",
   "metadata": {
    "id": "68f3b2c9"
   },
   "source": [
    "# Univariate Analysis"
   ]
  },
  {
   "cell_type": "markdown",
   "id": "71a9e9b7",
   "metadata": {},
   "source": [
    "## Group"
   ]
  },
  {
   "cell_type": "code",
   "execution_count": 13,
   "id": "eb53ab31",
   "metadata": {},
   "outputs": [
    {
     "data": {
      "text/plain": [
       "control      50\n",
       "treatment    50\n",
       "Name: group, dtype: int64"
      ]
     },
     "execution_count": 13,
     "metadata": {},
     "output_type": "execute_result"
    }
   ],
   "source": [
    "db['group'].value_counts()"
   ]
  },
  {
   "cell_type": "code",
   "execution_count": 14,
   "id": "ba6fe09f",
   "metadata": {},
   "outputs": [
    {
     "data": {
      "image/png": "[encoded data removed]",
      "text/plain": [
       "<Figure size 432x288 with 1 Axes>"
      ]
     },
     "metadata": {
      "needs_background": "light"
     },
     "output_type": "display_data"
    }
   ],
   "source": [
    "sns.countplot(data = db, x = 'group')\n",
    "plt.show()"
   ]
  },
  {
   "cell_type": "markdown",
   "id": "6f336c96",
   "metadata": {},
   "source": [
    "### Observation on group\n",
    "From the above, both control and treatment has the same count which is 50"
   ]
  },
  {
   "cell_type": "markdown",
   "id": "c4cec9ab",
   "metadata": {},
   "source": [
    "## Landing Page"
   ]
  },
  {
   "cell_type": "code",
   "execution_count": 15,
   "id": "58c63eb0",
   "metadata": {},
   "outputs": [
    {
     "data": {
      "text/plain": [
       "old    50\n",
       "new    50\n",
       "Name: landing_page, dtype: int64"
      ]
     },
     "execution_count": 15,
     "metadata": {},
     "output_type": "execute_result"
    }
   ],
   "source": [
    "db['landing_page'].value_counts()"
   ]
  },
  {
   "cell_type": "code",
   "execution_count": 22,
   "id": "f3a6192c",
   "metadata": {
    "scrolled": true
   },
   "outputs": [
    {
     "data": {
      "image/png": "[encoded data removed]",
      "text/plain": [
       "<Figure size 432x288 with 1 Axes>"
      ]
     },
     "metadata": {
      "needs_background": "light"
     },
     "output_type": "display_data"
    }
   ],
   "source": [
    "sns.countplot(data = db, x = 'landing_page')\n",
    "plt.show()"
   ]
  },
  {
   "cell_type": "markdown",
   "id": "5147205f",
   "metadata": {},
   "source": [
    "### Observation on Landing page\n",
    "Both old and new has the same count in the landing page"
   ]
  },
  {
   "cell_type": "markdown",
   "id": "ddf53623",
   "metadata": {},
   "source": [
    "## Time Spent On The Page"
   ]
  },
  {
   "cell_type": "code",
   "execution_count": 11,
   "id": "1932d0f3",
   "metadata": {
    "id": "1932d0f3"
   },
   "outputs": [
    {
     "data": {
      "image/png": "[encoded data removed]",
      "text/plain": [
       "<Figure size 432x288 with 1 Axes>"
      ]
     },
     "metadata": {
      "needs_background": "light"
     },
     "output_type": "display_data"
    },
    {
     "data": {
      "image/png": "[encoded data removed]",
      "text/plain": [
       "<Figure size 432x288 with 1 Axes>"
      ]
     },
     "metadata": {
      "needs_background": "light"
     },
     "output_type": "display_data"
    }
   ],
   "source": [
    "sns.histplot(data = db, x = 'time_spent_on_the_page' )\n",
    "plt.show()\n",
    "sns.boxplot(data = db, x = 'time_spent_on_the_page')\n",
    "plt.show()"
   ]
  },
  {
   "cell_type": "markdown",
   "id": "72f9f765",
   "metadata": {},
   "source": [
    "### Observation on time spent on the page\n",
    "more than 20 users spend 4 to 6.8 minutes on the page"
   ]
  },
  {
   "cell_type": "markdown",
   "id": "df7e5758",
   "metadata": {},
   "source": [
    "## Converted"
   ]
  },
  {
   "cell_type": "code",
   "execution_count": 23,
   "id": "26759dd8",
   "metadata": {},
   "outputs": [
    {
     "data": {
      "text/plain": [
       "yes    54\n",
       "no     46\n",
       "Name: converted, dtype: int64"
      ]
     },
     "execution_count": 23,
     "metadata": {},
     "output_type": "execute_result"
    }
   ],
   "source": [
    "db['converted'].value_counts()"
   ]
  },
  {
   "cell_type": "code",
   "execution_count": 24,
   "id": "610cde61",
   "metadata": {},
   "outputs": [
    {
     "data": {
      "image/png": "[encoded data removed]",
      "text/plain": [
       "<Figure size 432x288 with 1 Axes>"
      ]
     },
     "metadata": {
      "needs_background": "light"
     },
     "output_type": "display_data"
    },
    {
     "data": {
      "image/png": "[encoded data removed]",
      "text/plain": [
       "<Figure size 432x288 with 1 Axes>"
      ]
     },
     "metadata": {
      "needs_background": "light"
     },
     "output_type": "display_data"
    }
   ],
   "source": [
    "sns.countplot(data = db, x = 'converted')\n",
    "plt.show()\n",
    "sns.histplot(data = db, x = 'converted')\n",
    "plt.show()"
   ]
  },
  {
   "cell_type": "markdown",
   "id": "65f5649f",
   "metadata": {},
   "source": [
    "### Observation on converted\n",
    "users who said yes are more than 50 whiles users who said no are around 46."
   ]
  },
  {
   "cell_type": "markdown",
   "id": "03a05438",
   "metadata": {},
   "source": [
    "## Language Preferred"
   ]
  },
  {
   "cell_type": "code",
   "execution_count": 25,
   "id": "81e841d4",
   "metadata": {},
   "outputs": [
    {
     "data": {
      "text/plain": [
       "Spanish    34\n",
       "French     34\n",
       "English    32\n",
       "Name: language_preferred, dtype: int64"
      ]
     },
     "execution_count": 25,
     "metadata": {},
     "output_type": "execute_result"
    }
   ],
   "source": [
    "db['language_preferred'].value_counts()"
   ]
  },
  {
   "cell_type": "code",
   "execution_count": 26,
   "id": "cd852ab7",
   "metadata": {},
   "outputs": [
    {
     "data": {
      "image/png": "[encoded data removed]",
      "text/plain": [
       "<Figure size 432x288 with 1 Axes>"
      ]
     },
     "metadata": {
      "needs_background": "light"
     },
     "output_type": "display_data"
    },
    {
     "data": {
      "image/png": "[encoded data removed]",
      "text/plain": [
       "<Figure size 432x288 with 1 Axes>"
      ]
     },
     "metadata": {
      "needs_background": "light"
     },
     "output_type": "display_data"
    }
   ],
   "source": [
    "sns.histplot(data = db, x = 'language_preferred')\n",
    "plt.show()\n",
    "sns.countplot(data = db, x = 'language_preferred')\n",
    "plt.show()"
   ]
  },
  {
   "cell_type": "markdown",
   "id": "bac3bcaa",
   "metadata": {},
   "source": [
    "### Observation on language preferred\n",
    "users who preferred English are less than those who preferred Spanish and French"
   ]
  },
  {
   "cell_type": "markdown",
   "id": "fad2de2f",
   "metadata": {
    "id": "fad2de2f"
   },
   "source": [
    "# Bivariate Analysis"
   ]
  },
  {
   "cell_type": "markdown",
   "id": "adcb3bf9",
   "metadata": {
    "id": "58e9a1d0"
   },
   "source": [
    "## Landing Page vs Time Spent On The Page"
   ]
  },
  {
   "cell_type": "code",
   "execution_count": 17,
   "id": "f8a821dd",
   "metadata": {},
   "outputs": [
    {
     "data": {
      "image/png": "[encoded data removed]",
      "text/plain": [
       "<Figure size 648x648 with 1 Axes>"
      ]
     },
     "metadata": {
      "needs_background": "light"
     },
     "output_type": "display_data"
    }
   ],
   "source": [
    "plt.figure(figsize=(9,9))\n",
    "sns.boxplot(data = db, x = 'landing_page', y = 'time_spent_on_the_page')\n",
    "plt.show()"
   ]
  },
  {
   "cell_type": "markdown",
   "id": "49e99f5f",
   "metadata": {},
   "source": [
    "### Observation on landing page and time spent on the page\n",
    "Average time spent on the new landing page is 6 which is more than that of the old landing page 4.2 "
   ]
  },
  {
   "cell_type": "markdown",
   "id": "4e8f7ecc",
   "metadata": {},
   "source": [
    "## Conversion Status vs Time Spent On The Page"
   ]
  },
  {
   "cell_type": "code",
   "execution_count": 10,
   "id": "1e73c4f4",
   "metadata": {},
   "outputs": [
    {
     "data": {
      "image/png": "[encoded data removed]",
      "text/plain": [
       "<Figure size 792x504 with 1 Axes>"
      ]
     },
     "metadata": {
      "needs_background": "light"
     },
     "output_type": "display_data"
    }
   ],
   "source": [
    "plt.figure(figsize=(11,7))\n",
    "sns.boxplot(data = db, x = 'converted', y = 'time_spent_on_the_page')\n",
    "plt.show()"
   ]
  },
  {
   "cell_type": "markdown",
   "id": "3737ec62",
   "metadata": {},
   "source": [
    "### Observation on conversion vrs time spent on the page\n",
    "Users that said yes to conversion is higher (almost 7mins on average)than users who said no (4 mins on average) time spent on the page"
   ]
  },
  {
   "cell_type": "markdown",
   "id": "4f080e0a",
   "metadata": {},
   "source": [
    "## Language Preferred vs Time Sent On The Page"
   ]
  },
  {
   "cell_type": "code",
   "execution_count": 12,
   "id": "839e1ade",
   "metadata": {},
   "outputs": [
    {
     "data": {
      "image/png": "[encoded data removed]",
      "text/plain": [
       "<Figure size 648x648 with 1 Axes>"
      ]
     },
     "metadata": {
      "needs_background": "light"
     },
     "output_type": "display_data"
    }
   ],
   "source": [
    "plt.figure(figsize=(9,9))\n",
    "sns.boxplot(data = db, x = 'language_preferred', y = 'time_spent_on_the_page')\n",
    "plt.show()"
   ]
  },
  {
   "cell_type": "markdown",
   "id": "5764010f",
   "metadata": {},
   "source": [
    "### Observation on language preferred vs time spent on page\n",
    "The maximuim time spent on the page is in french(12) followed by English(11) and lastly Spanish (about 9)"
   ]
  },
  {
   "cell_type": "markdown",
   "id": "4ed6f7fb",
   "metadata": {},
   "source": [
    "## Group vs Time Spent On The Page"
   ]
  },
  {
   "cell_type": "code",
   "execution_count": 15,
   "id": "7925d30b",
   "metadata": {},
   "outputs": [
    {
     "data": {
      "image/png": "[encoded data removed]",
      "text/plain": [
       "<Figure size 648x648 with 1 Axes>"
      ]
     },
     "metadata": {
      "needs_background": "light"
     },
     "output_type": "display_data"
    }
   ],
   "source": [
    "plt.figure(figsize=(9,9))\n",
    "sns.boxplot(data = db, x = 'group', y = 'time_spent_on_the_page')\n",
    "plt.show()"
   ]
  },
  {
   "cell_type": "markdown",
   "id": "4a88c760",
   "metadata": {},
   "source": [
    "### Observation \n",
    "control group has the maximium time spent on the page (above 10) but treatment has outliers which is more or higher  than control group"
   ]
  },
  {
   "cell_type": "markdown",
   "id": "27906576",
   "metadata": {
    "id": "27906576"
   },
   "source": [
    "## 1. Do the users spend more time on the new landing page than the existing landing page?"
   ]
  },
  {
   "cell_type": "markdown",
   "id": "e5fdf0c8",
   "metadata": {
    "id": "e5fdf0c8"
   },
   "source": [
    "### Perform Visual Analysis"
   ]
  },
  {
   "cell_type": "code",
   "execution_count": 7,
   "id": "6eZJa41eg21n",
   "metadata": {
    "id": "6eZJa41eg21n"
   },
   "outputs": [
    {
     "data": {
      "image/png": "[encoded data removed]",
      "text/plain": [
       "<Figure size 648x648 with 1 Axes>"
      ]
     },
     "metadata": {
      "needs_background": "light"
     },
     "output_type": "display_data"
    }
   ],
   "source": [
    "plt.figure(figsize=(9,9))\n",
    "sns.boxplot(data = db, x = 'landing_page', y = 'time_spent_on_the_page')\n",
    "plt.show()"
   ]
  },
  {
   "cell_type": "markdown",
   "id": "56b3dafd",
   "metadata": {
    "id": "56b3dafd"
   },
   "source": [
    "### Step 1: Define the null and alternate hypotheses"
   ]
  },
  {
   "cell_type": "markdown",
   "id": "6840e794",
   "metadata": {},
   "source": [
    "$H_0$: $U_0$ = 0\n",
    "    \n",
    "$H_a$: $U_0$ > 0\n"
   ]
  },
  {
   "cell_type": "code",
   "execution_count": null,
   "id": "45782784",
   "metadata": {
    "id": "d2ac77ef",
    "scrolled": true
   },
   "outputs": [],
   "source": []
  },
  {
   "cell_type": "code",
   "execution_count": null,
   "id": "89f64c66",
   "metadata": {},
   "outputs": [],
   "source": []
  },
  {
   "cell_type": "code",
   "execution_count": null,
   "id": "b2620049",
   "metadata": {},
   "outputs": [],
   "source": []
  },
  {
   "cell_type": "code",
   "execution_count": null,
   "id": "646dfd07",
   "metadata": {},
   "outputs": [],
   "source": []
  },
  {
   "cell_type": "code",
   "execution_count": null,
   "id": "c1cfce16",
   "metadata": {},
   "outputs": [],
   "source": []
  },
  {
   "cell_type": "markdown",
   "id": "c7ee4907",
   "metadata": {
    "id": "c7ee4907"
   },
   "source": [
    "### Step 2: Select Appropriate test"
   ]
  },
  {
   "cell_type": "markdown",
   "id": "2c183cd7",
   "metadata": {
    "id": "2c183cd7"
   },
   "source": [
    "We are dealing with two population means from two independent population with one tail test where the population standard deviation is unknown so we use the two independent sample t-test"
   ]
  },
  {
   "cell_type": "markdown",
   "id": "3f58c9a7",
   "metadata": {
    "id": "3f58c9a7"
   },
   "source": [
    "### Step 3: Decide the significance level"
   ]
  },
  {
   "cell_type": "markdown",
   "id": "92d7d7ee",
   "metadata": {
    "id": "92d7d7ee"
   },
   "source": [
    "we use 0.05 as the the significance level is given as 5% in the problem statement"
   ]
  },
  {
   "cell_type": "markdown",
   "id": "5fed2eac",
   "metadata": {
    "id": "5fed2eac"
   },
   "source": [
    "### Step 4: Collect and prepare data"
   ]
  },
  {
   "cell_type": "code",
   "execution_count": 8,
   "id": "f5a59495",
   "metadata": {
    "id": "f5a59495"
   },
   "outputs": [],
   "source": [
    "# working on new landing page\n",
    "time_spent_on_new = db[db['landing_page'] == 'new']['time_spent_on_the_page']\n",
    "\n",
    "# working on old landing page\n",
    "time_spent_on_old = db[db['landing_page'] == 'old']['time_spent_on_the_page']"
   ]
  },
  {
   "cell_type": "code",
   "execution_count": 9,
   "id": "ff1368cd",
   "metadata": {},
   "outputs": [
    {
     "name": "stdout",
     "output_type": "stream",
     "text": [
      "the sample standard deviation spent on the new landing page is  1.82\n",
      "the sample standard deviation spent on the old landing page is  2.58\n"
     ]
    }
   ],
   "source": [
    "print('the sample standard deviation spent on the new landing page is ', round(time_spent_on_new.std(),2))\n",
    "print('the sample standard deviation spent on the old landing page is ', round(time_spent_on_old.std(),2))"
   ]
  },
  {
   "cell_type": "markdown",
   "id": "895ca433",
   "metadata": {},
   "source": [
    "observation:"
   ]
  },
  {
   "cell_type": "markdown",
   "id": "f5c5258d",
   "metadata": {
    "id": "f5c5258d"
   },
   "source": [
    "### Step 5: Calculate the p-value"
   ]
  },
  {
   "cell_type": "code",
   "execution_count": 14,
   "id": "fac8594a",
   "metadata": {
    "id": "fac8594a"
   },
   "outputs": [
    {
     "name": "stdout",
     "output_type": "stream",
     "text": [
      "p-value is  0.0001392381225166549\n"
     ]
    }
   ],
   "source": [
    "# importing the library\n",
    "from scipy.stats import ttest_ind\n",
    "test_st, p_value = ttest_ind(time_spent_on_new, time_spent_on_old, equal_var = False, alternative = 'greater')\n",
    "print('p-value is ', p_value)"
   ]
  },
  {
   "cell_type": "markdown",
   "id": "359b12f8",
   "metadata": {
    "id": "359b12f8"
   },
   "source": [
    "### Step 6: Compare the p-value with $\\alpha$"
   ]
  },
  {
   "cell_type": "code",
   "execution_count": 16,
   "id": "f05f6cab",
   "metadata": {
    "id": "7be47289"
   },
   "outputs": [
    {
     "name": "stdout",
     "output_type": "stream",
     "text": [
      "As the p-value 0.0001392381225166549 is less than the level of significance, we reject the null hypothesis\n"
     ]
    }
   ],
   "source": [
    "if p_value < 0.05:\n",
    "    print(f'As the p-value {p_value} is less than the level of significance, we reject the null hypothesis')\n",
    "else:\n",
    "    print(f'As the p-value {p_value} is greater than the level of significance, we fail to reject the null hypothesis')"
   ]
  },
  {
   "cell_type": "markdown",
   "id": "d9affc84",
   "metadata": {
    "id": "d9affc84"
   },
   "source": [
    "### Step 7:  Draw inference"
   ]
  },
  {
   "cell_type": "markdown",
   "id": "6b16dd4b",
   "metadata": {
    "id": "6b16dd4b"
   },
   "source": [
    "From the time we performed the visual analysis,\n",
    "* We realised that time spent on old landing page is above 10mins which was more than time spent on new landing page.\n",
    "* Again the standard deviation spend on the old landing page is 2.58 which is higher than the new landing page.\n",
    "\n",
    "Therefore,\n",
    "We reject the null hypothesis because there is not enough evidence to support the claim."
   ]
  },
  {
   "cell_type": "markdown",
   "id": "1ad0823a",
   "metadata": {
    "id": "1ad0823a"
   },
   "source": [
    "**A similar approach can be followed to answer the other questions.**"
   ]
  },
  {
   "cell_type": "markdown",
   "id": "353e9d24",
   "metadata": {
    "id": "353e9d24"
   },
   "source": [
    "## 2. Is the conversion rate (the proportion of users who visit the landing page and get converted) for the new page greater than the conversion rate for the old page?"
   ]
  },
  {
   "cell_type": "markdown",
   "id": "fce8e301",
   "metadata": {
    "id": "b7f52898"
   },
   "source": [
    "### Perform Visual Analysis"
   ]
  },
  {
   "cell_type": "code",
   "execution_count": 10,
   "id": "a30b20ae",
   "metadata": {},
   "outputs": [
    {
     "data": {
      "image/png": "[encoded data removed]",
      "text/plain": [
       "<Figure size 504x648 with 1 Axes>"
      ]
     },
     "metadata": {
      "needs_background": "light"
     },
     "output_type": "display_data"
    }
   ],
   "source": [
    "pd.crosstab(db['converted'], db['landing_page'], normalize = 'index').plot(kind = 'bar', figsize=(7,9), stacked = True)\n",
    "plt.legend()\n",
    "plt.show()"
   ]
  },
  {
   "cell_type": "markdown",
   "id": "faeca6b6",
   "metadata": {},
   "source": [
    "### step 1: Defining the null and alternative hypothesis"
   ]
  },
  {
   "cell_type": "markdown",
   "id": "23f01c6f",
   "metadata": {},
   "source": [
    "$H_0:$ = $U_0$ = 0\n",
    "\n",
    "$H_a:$ = $U_0$ > 0"
   ]
  },
  {
   "cell_type": "code",
   "execution_count": null,
   "id": "033d677a",
   "metadata": {},
   "outputs": [],
   "source": []
  },
  {
   "cell_type": "markdown",
   "id": "e03329b6",
   "metadata": {},
   "source": [
    "### step 2: Selecting the right test"
   ]
  },
  {
   "cell_type": "markdown",
   "id": "d8835343",
   "metadata": {},
   "source": [
    "It is a two population proportion , with one-tail test concerning two independent population. so we use the two proporion z-test"
   ]
  },
  {
   "cell_type": "markdown",
   "id": "85f7346d",
   "metadata": {},
   "source": [
    "### step 3 working on the significant level"
   ]
  },
  {
   "cell_type": "markdown",
   "id": "f0ce8956",
   "metadata": {},
   "source": [
    "we will use a = 0.05"
   ]
  },
  {
   "cell_type": "markdown",
   "id": "2fae2541",
   "metadata": {},
   "source": [
    "### step 4: collecting and preparing the data"
   ]
  },
  {
   "cell_type": "code",
   "execution_count": null,
   "id": "499ca9b1",
   "metadata": {},
   "outputs": [],
   "source": []
  },
  {
   "cell_type": "code",
   "execution_count": 13,
   "id": "e4d28124",
   "metadata": {},
   "outputs": [
    {
     "name": "stdout",
     "output_type": "stream",
     "text": [
      "The number of users served the new and old pages are 50 and 50 respectively\n"
     ]
    }
   ],
   "source": [
    "# calculating the number of converted users in the treatment group\n",
    "new_converted = db[db['group']== 'treatment']['converted'].value_counts()['yes']\n",
    "# calculating the number of converted users in the control group\n",
    "old_converted = db[db['group']== 'control']['converted'].value_counts()['yes']\n",
    "\n",
    "ne_control = db.group.value_counts()['control']\n",
    "ne_treatment = db.group.value_counts()['treatment']\n",
    "print('The number of users served the new and old pages are {0} and {1} respectively'.format(ne_control, ne_treatment))"
   ]
  },
  {
   "cell_type": "markdown",
   "id": "9c24c01a",
   "metadata": {},
   "source": [
    "### step 5: calculating the p-value"
   ]
  },
  {
   "cell_type": "code",
   "execution_count": 24,
   "id": "5aa7de20",
   "metadata": {},
   "outputs": [
    {
     "name": "stdout",
     "output_type": "stream",
     "text": [
      "The p-value is  0.008026308204056278\n"
     ]
    }
   ],
   "source": [
    "from statsmodels.stats.proportion import proportions_ztest\n",
    "\n",
    "# writing code to calculate the P-value \n",
    "test_stats, p_value = proportions_ztest([new_converted, old_converted], [ne_treatment, ne_control], alternative = 'larger')\n",
    "\n",
    "print('The p-value is ', p_value)"
   ]
  },
  {
   "cell_type": "markdown",
   "id": "c1886afd",
   "metadata": {},
   "source": [
    "### step 6: compare the p-value with $\\alpha$"
   ]
  },
  {
   "cell_type": "code",
   "execution_count": 29,
   "id": "0c855723",
   "metadata": {},
   "outputs": [
    {
     "name": "stdout",
     "output_type": "stream",
     "text": [
      "since p-value 0.008026308204056278 is less than the level of significance, we reject the null hypothesis.\n"
     ]
    }
   ],
   "source": [
    "if p_value < 0.05:\n",
    "    print(f'since p-value {p_value} is less than the level of significance, we reject the null hypothesis.')\n",
    "else:\n",
    "    print(f'since p-value {p_value} is greater than the level of significance, we fail to reject the null hypothesis.')\n"
   ]
  },
  {
   "cell_type": "markdown",
   "id": "1bbed8ae",
   "metadata": {},
   "source": [
    "### Draw Inference \n",
    "* From the time we performed the visual analysis to collecting the data,it can be seen that the number of users served new and old pages are the same, which is 50 for new and 50 for old. \n",
    "* Also, since the p value is less than the level of significance, it is a clear prove for us to reject the Null hypothesis.\n",
    "In Conclusion,\n",
    "Because there is no enough evidence to support the claim that, the conversion rate for the new page is greater than the conversion rate for the old page, we reject the Null hypothesis. "
   ]
  },
  {
   "cell_type": "markdown",
   "id": "9e859809",
   "metadata": {
    "id": "d49bfa2d"
   },
   "source": [
    "### 3. Is the conversion and preferred language are independent or related?"
   ]
  },
  {
   "cell_type": "markdown",
   "id": "2a2723b6",
   "metadata": {},
   "source": [
    "### Perform visual Analysis"
   ]
  },
  {
   "cell_type": "code",
   "execution_count": 12,
   "id": "33f079d5",
   "metadata": {},
   "outputs": [
    {
     "data": {
      "image/png": "[encoded data removed]",
      "text/plain": [
       "<Figure size 504x648 with 1 Axes>"
      ]
     },
     "metadata": {
      "needs_background": "light"
     },
     "output_type": "display_data"
    }
   ],
   "source": [
    "pd.crosstab(db['converted'],db['language_preferred'], normalize = 'index').plot(kind = 'bar', figsize=(7,9), stacked = True)\n",
    "plt.legend()\n",
    "plt.show()"
   ]
  },
  {
   "cell_type": "markdown",
   "id": "e984c7f7",
   "metadata": {
    "id": "b0e63f17"
   },
   "source": [
    "### step 1: Defining the null and alternative hypothesis"
   ]
  },
  {
   "cell_type": "markdown",
   "id": "4504f283",
   "metadata": {},
   "source": [
    "$H_0:$ = converted status depend on preferred language. \n",
    "\n",
    "$H_a:$ = converted status is independent on preferred language"
   ]
  },
  {
   "cell_type": "markdown",
   "id": "0f972ab1",
   "metadata": {},
   "source": [
    "### step 2: Selecting the right test"
   ]
  },
  {
   "cell_type": "markdown",
   "id": "5c7d15e5",
   "metadata": {},
   "source": [
    "This concerns test of independence in two categorical variables between the converted status and preferred language therefore, we use the chi-square test of independence"
   ]
  },
  {
   "cell_type": "markdown",
   "id": "b478b226",
   "metadata": {},
   "source": [
    "### step 3: Working on the significant level"
   ]
  },
  {
   "cell_type": "markdown",
   "id": "e2f7692e",
   "metadata": {},
   "source": [
    "we will use $\\alpha$ = 0.05 as the significant level"
   ]
  },
  {
   "cell_type": "markdown",
   "id": "3be6f85c",
   "metadata": {},
   "source": [
    "### step 4: Collecting and preparing the data"
   ]
  },
  {
   "cell_type": "code",
   "execution_count": 14,
   "id": "3420c90b",
   "metadata": {},
   "outputs": [
    {
     "data": {
      "text/html": [
       "<div>\n",
       "<style scoped>\n",
       "    .dataframe tbody tr th:only-of-type {\n",
       "        vertical-align: middle;\n",
       "    }\n",
       "\n",
       "    .dataframe tbody tr th {\n",
       "        vertical-align: top;\n",
       "    }\n",
       "\n",
       "    .dataframe thead th {\n",
       "        text-align: right;\n",
       "    }\n",
       "</style>\n",
       "<table border=\"1\" class=\"dataframe\">\n",
       "  <thead>\n",
       "    <tr style=\"text-align: right;\">\n",
       "      <th>language_preferred</th>\n",
       "      <th>English</th>\n",
       "      <th>French</th>\n",
       "      <th>Spanish</th>\n",
       "    </tr>\n",
       "    <tr>\n",
       "      <th>converted</th>\n",
       "      <th></th>\n",
       "      <th></th>\n",
       "      <th></th>\n",
       "    </tr>\n",
       "  </thead>\n",
       "  <tbody>\n",
       "    <tr>\n",
       "      <th>no</th>\n",
       "      <td>11</td>\n",
       "      <td>19</td>\n",
       "      <td>16</td>\n",
       "    </tr>\n",
       "    <tr>\n",
       "      <th>yes</th>\n",
       "      <td>21</td>\n",
       "      <td>15</td>\n",
       "      <td>18</td>\n",
       "    </tr>\n",
       "  </tbody>\n",
       "</table>\n",
       "</div>"
      ],
      "text/plain": [
       "language_preferred  English  French  Spanish\n",
       "converted                                   \n",
       "no                       11      19       16\n",
       "yes                      21      15       18"
      ]
     },
     "execution_count": 14,
     "metadata": {},
     "output_type": "execute_result"
    }
   ],
   "source": [
    "c_table = pd.crosstab(db['converted'], db['language_preferred'])\n",
    "\n",
    "c_table"
   ]
  },
  {
   "cell_type": "markdown",
   "id": "83985a5b",
   "metadata": {},
   "source": [
    "### step 5: Calculating the p-value "
   ]
  },
  {
   "cell_type": "code",
   "execution_count": 15,
   "id": "a6e4b6b2",
   "metadata": {},
   "outputs": [
    {
     "name": "stdout",
     "output_type": "stream",
     "text": [
      "p_value is 0.21298887487543447\n"
     ]
    }
   ],
   "source": [
    "from scipy.stats import chi2_contingency\n",
    "chi2, p_value, dof, exp_freq = chi2_contingency(c_table)\n",
    "print('p_value is', p_value)"
   ]
  },
  {
   "cell_type": "markdown",
   "id": "96a1b011",
   "metadata": {},
   "source": [
    "### step 6: comparing the p-value with  $\\alpha$"
   ]
  },
  {
   "cell_type": "code",
   "execution_count": 16,
   "id": "9784edff",
   "metadata": {},
   "outputs": [
    {
     "name": "stdout",
     "output_type": "stream",
     "text": [
      "Since the p_value 0.21298887487543447 is greater than the level of significant, we fail to reject the Null hypothesis\n"
     ]
    }
   ],
   "source": [
    "if p_value < 0.05:\n",
    "    print(f'Since the p_value {p_value} is less than the level of significant, we reject the Null hypothesis')\n",
    "else:\n",
    "    print(f'Since the p_value {p_value} is greater than the level of significant, we fail to reject the Null hypothesis')"
   ]
  },
  {
   "cell_type": "markdown",
   "id": "74be2dd4",
   "metadata": {},
   "source": [
    "### Draw Inference\n",
    "From the point where we calculated the p-value, we saw that p-value is geater than the level of significance. with this, there is enough evidence that converted status depend on the preferred language. So there is a relationship."
   ]
  },
  {
   "cell_type": "markdown",
   "id": "8d585a90",
   "metadata": {
    "id": "8d585a90"
   },
   "source": [
    "## 4. Is the time spent on the new page same for the different language users?"
   ]
  },
  {
   "cell_type": "markdown",
   "id": "5d201bce",
   "metadata": {
    "id": "b422f395"
   },
   "source": [
    "### step 1: performing visual analysis"
   ]
  },
  {
   "cell_type": "code",
   "execution_count": 21,
   "id": "97487474",
   "metadata": {},
   "outputs": [],
   "source": [
    "db_new = db[db['landing_page'] == 'new']"
   ]
  },
  {
   "cell_type": "code",
   "execution_count": 22,
   "id": "36c84feb",
   "metadata": {},
   "outputs": [
    {
     "data": {
      "image/png": "[encoded data removed]",
      "text/plain": [
       "<Figure size 576x576 with 1 Axes>"
      ]
     },
     "metadata": {
      "needs_background": "light"
     },
     "output_type": "display_data"
    }
   ],
   "source": [
    "plt.figure(figsize = (8,8))\n",
    "sns.boxplot(x= 'language_preferred', y= 'time_spent_on_the_page', showmeans = True, data = db_new)\n",
    "plt.show()"
   ]
  },
  {
   "cell_type": "code",
   "execution_count": 25,
   "id": "aa63ff5c",
   "metadata": {},
   "outputs": [
    {
     "data": {
      "text/plain": [
       "language_preferred\n",
       "English    6.663750\n",
       "French     6.196471\n",
       "Spanish    5.835294\n",
       "Name: time_spent_on_the_page, dtype: float64"
      ]
     },
     "execution_count": 25,
     "metadata": {},
     "output_type": "execute_result"
    }
   ],
   "source": [
    "db_new.groupby(['language_preferred'])['time_spent_on_the_page'].mean()"
   ]
  },
  {
   "cell_type": "markdown",
   "id": "39b7f983",
   "metadata": {},
   "source": [
    "### step 2: Defininng the Null and Alternative hypothesis"
   ]
  },
  {
   "cell_type": "markdown",
   "id": "c1a5d66c",
   "metadata": {},
   "source": [
    "$H_0:$ = $U_1:$ = $U_2:$ = $U_3:$\n",
    "\n",
    "$H_0:$ = At least one of the language preferred are different from the rest"
   ]
  },
  {
   "cell_type": "markdown",
   "id": "11487365",
   "metadata": {},
   "source": [
    "### step 3: selecting the right test"
   ]
  },
  {
   "cell_type": "markdown",
   "id": "1f3fd52d",
   "metadata": {},
   "source": [
    "This is a problem on three population mean and for that, we will use the ANOVA test"
   ]
  },
  {
   "cell_type": "markdown",
   "id": "aa05bd1f",
   "metadata": {},
   "source": [
    "### step 4: working on the significant level "
   ]
  },
  {
   "cell_type": "markdown",
   "id": "ede67c26",
   "metadata": {},
   "source": [
    "We will use 0.05 as the significant level"
   ]
  },
  {
   "cell_type": "markdown",
   "id": "15af8f56",
   "metadata": {},
   "source": [
    "### step 5: collecting and preparing the data"
   ]
  },
  {
   "cell_type": "code",
   "execution_count": 30,
   "id": "043cd2eb",
   "metadata": {},
   "outputs": [
    {
     "data": {
      "text/plain": [
       "2     4.40\n",
       "4     4.75\n",
       "12    5.86\n",
       "15    6.27\n",
       "24    6.18\n",
       "38    1.65\n",
       "42    7.16\n",
       "47    7.23\n",
       "48    8.08\n",
       "52    6.47\n",
       "54    6.41\n",
       "68    6.70\n",
       "77    3.88\n",
       "82    5.74\n",
       "95    5.15\n",
       "97    7.07\n",
       "98    6.20\n",
       "Name: time_spent_on_the_page, dtype: float64"
      ]
     },
     "execution_count": 30,
     "metadata": {},
     "output_type": "execute_result"
    }
   ],
   "source": [
    "time_spent_English = db_new[db_new['language_preferred']== 'English']['time_spent_on_the_page']\n",
    "time_spent_French = db_new[db_new['language_preferred']== 'French']['time_spent_on_the_page']\n",
    "time_spent_Spanish = db_new[db_new['language_preferred']== 'Spanish']['time_spent_on_the_page']\n",
    "\n",
    "time_spent_English\n",
    "time_spent_French\n",
    "time_spent_Spanish"
   ]
  },
  {
   "cell_type": "markdown",
   "id": "fbef2dea",
   "metadata": {},
   "source": [
    "### step 6: calculating the p_value"
   ]
  },
  {
   "cell_type": "code",
   "execution_count": 33,
   "id": "373cdf76",
   "metadata": {},
   "outputs": [
    {
     "name": "stdout",
     "output_type": "stream",
     "text": [
      "p_value is 0.46711357711340173\n"
     ]
    }
   ],
   "source": [
    "from scipy.stats import levene\n",
    "test_stats, p_value = stats.levene(time_spent_English, time_spent_French, time_spent_Spanish)\n",
    "print('p_value is', p_value)"
   ]
  },
  {
   "cell_type": "markdown",
   "id": "91dc02e1",
   "metadata": {},
   "source": [
    "### step 7: compare the p_value with $\\alpha$"
   ]
  },
  {
   "cell_type": "code",
   "execution_count": 34,
   "id": "68160385",
   "metadata": {},
   "outputs": [
    {
     "name": "stdout",
     "output_type": "stream",
     "text": [
      "since p_value 0.46711357711340173 is greater than the level of significance, we fail to reject the Null hypothesis\n"
     ]
    }
   ],
   "source": [
    "if p_value < 0.05:\n",
    "    print(f'since p_value {p_value} is less than the level of significance, we reject the Null hypothesis')\n",
    "else:\n",
    "    print(f'since p_value {p_value} is greater than the level of significance, we fail to reject the Null hypothesis')"
   ]
  },
  {
   "cell_type": "markdown",
   "id": "3fb5e864",
   "metadata": {},
   "source": [
    "### step 8: in conclusion"
   ]
  },
  {
   "cell_type": "markdown",
   "id": "988c2d28",
   "metadata": {},
   "source": [
    "From the point where we collected and prepared data, we saw that p-value is geater than the level of significance. with this, there is enough evidence that time spent for the difference language users. So there is a relationship, therefore we fail to reject the Null hypothesis."
   ]
  },
  {
   "cell_type": "markdown",
   "id": "3acbc947",
   "metadata": {
    "id": "3acbc947"
   },
   "source": [
    "## Conclusion \n",
    "\n",
    "We found out that;\n",
    "* Users did not spend more time on the new landing page than the existing landing page.\n",
    "* Again we found out the conversion rate for the new page is not greater than that of the existing page.\n",
    "* We then realised that the converted status has a relationship with the preferred language.\n",
    "* Finally, time spent on the new page is the same with all the preferred language.\n",
    "\n",
    "## Recommendation\n",
    "* Will recommend that the old and new page be fused or used simultaneously since the rate of time spent on the old page is equally good.\n",
    "* The new landing page need to be updated frequently to march current trends so that it will attract more users.\n",
    "* The new landing page is not that effective and competitive enough and for that matter, the Executives need to pay close attention to that."
   ]
  },
  {
   "cell_type": "markdown",
   "id": "21fb1063",
   "metadata": {
    "id": "21fb1063"
   },
   "source": []
  },
  {
   "cell_type": "markdown",
   "id": "U0dAd4i0iCHo",
   "metadata": {
    "id": "U0dAd4i0iCHo"
   },
   "source": [
    "___"
   ]
  }
 ],
 "metadata": {
  "colab": {
   "collapsed_sections": [
    "a6a3d218",
    "6970dd99",
    "9d75cfa2",
    "68f3b2c9",
    "fad2de2f",
    "27906576",
    "e5fdf0c8",
    "56b3dafd",
    "c7ee4907",
    "3f58c9a7",
    "5fed2eac",
    "f5c5258d",
    "359b12f8",
    "d9affc84",
    "353e9d24",
    "d49bfa2d",
    "8d585a90",
    "3acbc947"
   ],
   "name": "ENews_Express_Learner_Notebook_Full_Code v1.1.ipynb",
   "provenance": []
  },
  "kernelspec": {
   "display_name": "Python 3 (ipykernel)",
   "language": "python",
   "name": "python3"
  },
  "language_info": {
   "codemirror_mode": {
    "name": "ipython",
    "version": 3
   },
   "file_extension": ".py",
   "mimetype": "text/x-python",
   "name": "python",
   "nbconvert_exporter": "python",
   "pygments_lexer": "ipython3",
   "version": "3.10.9"
  }
 },
 "nbformat": 4,
 "nbformat_minor": 5
}
